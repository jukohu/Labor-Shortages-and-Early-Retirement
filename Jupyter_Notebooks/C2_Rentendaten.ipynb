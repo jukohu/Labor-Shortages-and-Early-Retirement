{
 "cells": [
  {
   "cell_type": "markdown",
   "id": "acc03bb6",
   "metadata": {},
   "source": [
    "## Cleaning Renten data\n",
    "\n",
    "This code looks at the Renten data and prepares it for futher analysis"
   ]
  },
  {
   "cell_type": "code",
   "execution_count": null,
   "id": "56e84b32",
   "metadata": {},
   "outputs": [],
   "source": [
    "# Import CSV with Rentenddaten\n",
    "\n",
    "import pandas as pd\n",
    "\n",
    "pd.set_option('display.max.rows', None)\n",
    "pd.set_option('display.max.columns', None)\n",
    "\n",
    "df = pd.read_csv(r\"C:\\\\Users\\\\jhummels\\\\OneDrive - DIW Berlin\\\\Gehlen, Annica's files - retirement-labor-shortages\\\\Data\\\\Renten_data\\\\fdz_output_rentenzugaenge_berufsgruppen.csv\")"
   ]
  },
  {
   "cell_type": "markdown",
   "id": "dfb2c96e",
   "metadata": {},
   "source": [
    "Preview data"
   ]
  },
  {
   "cell_type": "code",
   "execution_count": null,
   "id": "333671f4",
   "metadata": {},
   "outputs": [],
   "source": [
    "df.head(20)"
   ]
  },
  {
   "cell_type": "code",
   "execution_count": null,
   "id": "59a1ecc1",
   "metadata": {},
   "outputs": [],
   "source": [
    "df.shape"
   ]
  },
  {
   "cell_type": "code",
   "execution_count": null,
   "id": "3cfea55d",
   "metadata": {},
   "outputs": [],
   "source": [
    "df.columns"
   ]
  },
  {
   "cell_type": "code",
   "execution_count": null,
   "id": "677e337c",
   "metadata": {},
   "outputs": [],
   "source": [
    "df.isnull().sum()"
   ]
  },
  {
   "cell_type": "code",
   "execution_count": null,
   "id": "87443acf",
   "metadata": {},
   "outputs": [],
   "source": [
    "# Display unique values in the 'kldb2010_3_akvs' column\n",
    "unique_values = df[\"kldb2010_3_akvs\"].unique()\n",
    "print(unique_values)\n",
    "\n",
    "# Count the number of unique values\n",
    "unique_count = df[\"kldb2010_3_akvs\"].nunique()\n",
    "print(unique_count)"
   ]
  },
  {
   "cell_type": "code",
   "execution_count": null,
   "id": "04ac4797",
   "metadata": {},
   "outputs": [],
   "source": [
    "# Display unique values in the 'Year' column\n",
    "unique_values_Year = df[\"year\"].unique()\n",
    "print(unique_values_Year)"
   ]
  },
  {
   "cell_type": "markdown",
   "id": "8983eff3",
   "metadata": {},
   "source": [
    "If data for a Berufsgruppe in a specific Bundesland and year is missing, the data frame is organised in a way that the row is not included opposed to having the row included but with NA outputs. The following code makes sure that for each Berufsgruppe, Bundesland and Year there are complete observations and rows excluded from the data set are added back but with NA ouptus then. "
   ]
  },
  {
   "cell_type": "code",
   "execution_count": null,
   "id": "d0ab430e",
   "metadata": {},
   "outputs": [],
   "source": [
    "# Get unique values for 'Bundesländer', 'Berufsgruppen', and 'Year'\n",
    "unique_bundeslaender = df[\"bland\"].unique()  # Replace with the actual column name for Bundesländer\n",
    "unique_berufsgruppen = df[\"kldb2010_3_akvs\"].unique()  # Replace with the actual column name for Berufsgruppen\n",
    "unique_years = df[\"year\"].unique()  # Replace with the actual column name for Years\n",
    "\n",
    "# Create a Cartesian product of all possible combinations\n",
    "import itertools\n",
    "import pandas as pd\n",
    "\n",
    "all_combinations = pd.DataFrame(\n",
    "    list(itertools.product(unique_bundeslaender, unique_berufsgruppen, unique_years)),\n",
    "    columns=[\"bland\", \"kldb2010_3_akvs\", \"year\"]\n",
    ")\n",
    "\n",
    "# Merge the complete combinations with the original DataFrame\n",
    "complete_df = all_combinations.merge(df, on=[\"bland\", \"kldb2010_3_akvs\", \"year\"], how=\"left\")\n",
    "\n",
    "complete_df.to_csv(r\"C:\\Users\\jhummels\\OneDrive - DIW Berlin\\Gehlen, Annica's files - retirement-labor-shortages\\Data\\Renten_data\\complete_df_Rente.csv\", index=False)\n",
    "\n",
    "# Display the first few rows of the complete DataFrame\n",
    "complete_df.head()\n"
   ]
  },
  {
   "cell_type": "code",
   "execution_count": null,
   "id": "2a099fe1",
   "metadata": {},
   "outputs": [],
   "source": [
    "complete_df.isnull().sum()\t"
   ]
  },
  {
   "cell_type": "markdown",
   "id": "c138bb91",
   "metadata": {},
   "source": [
    "Plotting missingness of alter_rentenzugang variable by Berufsgruppe"
   ]
  },
  {
   "cell_type": "code",
   "execution_count": null,
   "id": "97c55469",
   "metadata": {},
   "outputs": [],
   "source": [
    "missing_alter_rentenzugang = (\n",
    "    complete_df.groupby('kldb2010_3_akvs')['alter_rentenzugang']\n",
    "    .apply(lambda x: x.isnull().sum())\n",
    "    .sort_values(ascending=False)\n",
    ")\n",
    "\n",
    "import matplotlib.pyplot as plt\n",
    "\n",
    "plt.figure(figsize=(10, 100))\n",
    "missing_alter_rentenzugang.plot(kind='barh')\n",
    "\n",
    "plt.title('Number of Missing \"Alter_Rentenzugang\" Values by Beruf')\n",
    "plt.xlabel('Count of Missing Values')\n",
    "plt.ylabel('Beruf')\n",
    "plt.gca().invert_yaxis()  # Optional: highest values on top\n",
    "plt.grid(axis='x', linestyle='--', alpha=0.6)\n",
    "plt.tight_layout()\n",
    "plt.show()\n"
   ]
  },
  {
   "cell_type": "code",
   "execution_count": null,
   "id": "62afa701",
   "metadata": {},
   "outputs": [],
   "source": [
    "# Count NaNs by Bundesländer\n",
    "complete_df.groupby('bland').apply(lambda g: g.isnull().mean())"
   ]
  },
  {
   "cell_type": "code",
   "execution_count": null,
   "id": "b24f6420",
   "metadata": {},
   "outputs": [],
   "source": [
    "# Count NaNs by Year\n",
    "complete_df.groupby('year').apply(lambda g: g.isnull().mean())"
   ]
  },
  {
   "cell_type": "code",
   "execution_count": null,
   "id": "c5f1aa2e",
   "metadata": {},
   "outputs": [],
   "source": [
    "# Step 1: Calculate missing rate per Year-Month\n",
    "year_missing = (\n",
    "    complete_df.groupby(['year'])['alter_rentenzugang']\n",
    "    .apply(lambda x: x.isnull().mean())\n",
    "    .reset_index(name='missing_rate')\n",
    ")\n",
    "\n",
    "# Step 3: Missing rate per Bundesland\n",
    "bundesland_missing = (\n",
    "    complete_df.groupby('bland')['alter_rentenzugang']\n",
    "    .apply(lambda x: x.isnull().mean())\n",
    "    .sort_values(ascending=False)\n",
    ")\n",
    "\n",
    "# Step 4: Print summary\n",
    "print(\"\\nYears with highest missing rates:\")\n",
    "print(year_missing.sort_values('missing_rate', ascending=False).head(12))\n",
    "\n",
    "print(\"\\nBundesländer with highest missing rates:\")\n",
    "print(bundesland_missing.head(10))\n",
    "\n",
    "# Step 5: Visualize top 12 months with highest missing rates\n",
    "import matplotlib.pyplot as plt\n",
    "\n",
    "top_months = year_missing.sort_values('missing_rate', ascending=False).head(12)\n",
    "\n",
    "plt.figure(figsize=(10, 6))\n",
    "plt.barh(top_months['year'], top_months['missing_rate'], color='coral')\n",
    "plt.xlabel('Missing Rate')\n",
    "plt.ylabel('Year')\n",
    "plt.title('Top Years with Highest Missing Rates in \"Zugang\"')\n",
    "plt.gca().invert_yaxis()\n",
    "plt.grid(axis='x', linestyle='--', alpha=0.6)\n",
    "plt.tight_layout()\n",
    "plt.show()\n",
    "\n",
    "# Step 6: Visualize top 16 Bundesländer with highest missing rates\n",
    "top_bundeslaender = bundesland_missing.head(16)\n",
    "\n",
    "plt.figure(figsize=(8, 6))\n",
    "top_bundeslaender.plot(kind='barh', color='steelblue')\n",
    "plt.xlabel('Missing Rate')\n",
    "plt.ylabel('Bundesland')\n",
    "plt.title('Top 16 Bundesländer with Highest Missing Rates in \"Zugang\"')\n",
    "plt.gca().invert_yaxis()\n",
    "plt.grid(axis='x', linestyle='--', alpha=0.6)\n",
    "plt.tight_layout()\n",
    "plt.show()\n",
    "\n"
   ]
  }
 ],
 "metadata": {
  "kernelspec": {
   "display_name": "Python 3",
   "language": "python",
   "name": "python3"
  },
  "language_info": {
   "codemirror_mode": {
    "name": "ipython",
    "version": 3
   },
   "file_extension": ".py",
   "mimetype": "text/x-python",
   "name": "python",
   "nbconvert_exporter": "python",
   "pygments_lexer": "ipython3",
   "version": "3.13.3"
  }
 },
 "nbformat": 4,
 "nbformat_minor": 5
}
